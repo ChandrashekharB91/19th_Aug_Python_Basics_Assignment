{
 "cells": [
  {
   "cell_type": "markdown",
   "id": "e1558806-8d74-4f1d-b048-df33125e42af",
   "metadata": {},
   "source": [
    "# <span style=\"color:red\"> TOPIC: Python Basics Variable </span>"
   ]
  },
  {
   "cell_type": "code",
   "execution_count": 22,
   "id": "b30d2e91-2003-439b-b1c5-3885174cab6d",
   "metadata": {},
   "outputs": [],
   "source": [
    "# import necessary library\n",
    "\n",
    "import numpy as np"
   ]
  },
  {
   "cell_type": "markdown",
   "id": "5c5d93e6-ab8f-4533-9f01-65146ee3820f",
   "metadata": {},
   "source": [
    "1. Declare two variables, `x` and `y`, and assign them integer values. Swap the    \n",
    "   values of these variables without using any temporary variable."
   ]
  },
  {
   "cell_type": "code",
   "execution_count": 1,
   "id": "de9697f9-1cae-4f4a-bdc1-2f080e0bf49c",
   "metadata": {},
   "outputs": [],
   "source": [
    "x = 10"
   ]
  },
  {
   "cell_type": "code",
   "execution_count": 2,
   "id": "de340c35-762b-4d9e-bc9c-9c26b4e1c6ba",
   "metadata": {},
   "outputs": [],
   "source": [
    "y = 20 "
   ]
  },
  {
   "cell_type": "code",
   "execution_count": 3,
   "id": "023dd9ca-13dc-47cf-aedc-c9c6b492c188",
   "metadata": {},
   "outputs": [],
   "source": [
    "# Using basic arithmetic, we swap values without using temporary variables\n",
    "\n",
    "x = x + y\n",
    "\n",
    "y = x - y\n",
    "\n",
    "x = x - y"
   ]
  },
  {
   "cell_type": "code",
   "execution_count": 4,
   "id": "b5fac630-6bfe-4fee-87db-01f0254bf316",
   "metadata": {},
   "outputs": [
    {
     "name": "stdout",
     "output_type": "stream",
     "text": [
      "New value of x is  20\n",
      "New value of y is  10\n"
     ]
    }
   ],
   "source": [
    "print('New value of x is ', x)\n",
    "print('New value of y is ', y)"
   ]
  },
  {
   "cell_type": "code",
   "execution_count": 6,
   "id": "8105896b-6bed-48ba-a3c3-ac18196bc012",
   "metadata": {},
   "outputs": [],
   "source": [
    "# We can define a function to swap the integer values of variables\n",
    "\n",
    "def swap_func(x, y):\n",
    "    \n",
    "    x = x + y\n",
    "    \n",
    "    y = x - y\n",
    "    \n",
    "    x = x - y\n",
    "    \n",
    "    return x, y"
   ]
  },
  {
   "cell_type": "code",
   "execution_count": 7,
   "id": "7ef2b688-6727-410b-b922-c91ca293b277",
   "metadata": {},
   "outputs": [
    {
     "data": {
      "text/plain": [
       "(10, 5)"
      ]
     },
     "execution_count": 7,
     "metadata": {},
     "output_type": "execute_result"
    }
   ],
   "source": [
    "swap_func(5, 10)"
   ]
  },
  {
   "cell_type": "code",
   "execution_count": 9,
   "id": "a8b0016e-6394-43c7-b2fa-cb0466779f3b",
   "metadata": {},
   "outputs": [
    {
     "data": {
      "text/plain": [
       "(-10, -5)"
      ]
     },
     "execution_count": 9,
     "metadata": {},
     "output_type": "execute_result"
    }
   ],
   "source": [
    "# It works for negative integers also\n",
    "swap_func(-5, -10)"
   ]
  },
  {
   "cell_type": "code",
   "execution_count": 15,
   "id": "bec61099-6496-4bbc-b235-22a064a15165",
   "metadata": {},
   "outputs": [],
   "source": [
    "# Another way to achieve variable swapping is tupple unpacking (a more pythonic way)\n",
    "\n",
    "def swap_func_py(x, y):\n",
    "    x, y = y, x\n",
    "    return x, y"
   ]
  },
  {
   "cell_type": "code",
   "execution_count": 12,
   "id": "463ad5e7-1bf1-4866-858b-3ca618833109",
   "metadata": {},
   "outputs": [
    {
     "data": {
      "text/plain": [
       "(9.25, -3.5)"
      ]
     },
     "execution_count": 12,
     "metadata": {},
     "output_type": "execute_result"
    }
   ],
   "source": [
    "swap_func_py(-3.5, 9.25)"
   ]
  },
  {
   "cell_type": "code",
   "execution_count": 17,
   "id": "80437841-edcb-4ddf-b972-64ecb15354c6",
   "metadata": {},
   "outputs": [
    {
     "name": "stdin",
     "output_type": "stream",
     "text": [
      "Enter the value for x:  10\n",
      "Enter the value for y:  20\n"
     ]
    },
    {
     "name": "stdout",
     "output_type": "stream",
     "text": [
      "After swapping, x = 20\n",
      "After swapping, y = 10\n"
     ]
    }
   ],
   "source": [
    "# To use function in effective way\n",
    "\n",
    "x_value = int(input(\"Enter the value for x: \"))\n",
    "y_value = int(input(\"Enter the value for y: \"))\n",
    "\n",
    "result_x, result_y = swap_func_py(x_value, y_value)\n",
    "print(\"After swapping, x =\", result_x)\n",
    "print(\"After swapping, y =\", result_y)"
   ]
  },
  {
   "cell_type": "code",
   "execution_count": null,
   "id": "8c292b8a-6b60-45cf-9ac5-bfea9c0459c7",
   "metadata": {},
   "outputs": [],
   "source": []
  },
  {
   "cell_type": "markdown",
   "id": "f06c091a-3f0c-4a4c-9a5b-3784fdb20ed8",
   "metadata": {},
   "source": [
    "2. Create a program that calculates the area of a rectangle. Take the length and    \n",
    "   width as inputs from the user and store them in variables. Calculate and    \n",
    "   display the area."
   ]
  },
  {
   "cell_type": "markdown",
   "id": "483cd48d-9f38-49ef-94e2-b0ed66cc8027",
   "metadata": {},
   "source": [
    "* Area of rectangle = length * breadth "
   ]
  },
  {
   "cell_type": "code",
   "execution_count": 18,
   "id": "03747bbb-96f0-4383-b8c2-b4786550e2e6",
   "metadata": {},
   "outputs": [],
   "source": [
    "# We define a function that calculates the area of rectangle if the length and breadth are given.\n",
    "\n",
    "def calc_area(x, y):\n",
    "    area_of_rect = x*y\n",
    "    return area_of_rect"
   ]
  },
  {
   "cell_type": "code",
   "execution_count": 23,
   "id": "e4e314ba-fe1e-4c2a-9be9-4f99ddacf4d2",
   "metadata": {},
   "outputs": [
    {
     "name": "stdin",
     "output_type": "stream",
     "text": [
      "Enter the value of length:  2.75\n",
      "Enter the value of breadth:  3.87\n"
     ]
    },
    {
     "name": "stdout",
     "output_type": "stream",
     "text": [
      "The area of the rectangle of length 2.75 and bredth 3.87 is  10.64\n"
     ]
    }
   ],
   "source": [
    "# We assign l to length and b to breadth\n",
    "\n",
    "l = float(input('Enter the value of length: '))\n",
    "b = float(input('Enter the value of breadth: '))\n",
    "\n",
    "a = calc_area(l, b)\n",
    "\n",
    "print(f'The area of the rectangle of length {l} and bredth {b} is ', np.round(a, 2))"
   ]
  },
  {
   "cell_type": "code",
   "execution_count": 25,
   "id": "cdec958c-b6d8-4a6d-8a60-102e6e56ef51",
   "metadata": {},
   "outputs": [
    {
     "data": {
      "text/plain": [
       "2.75"
      ]
     },
     "execution_count": 25,
     "metadata": {},
     "output_type": "execute_result"
    }
   ],
   "source": [
    "l"
   ]
  },
  {
   "cell_type": "code",
   "execution_count": 26,
   "id": "4c8c1490-c499-4906-964a-3d67eb007044",
   "metadata": {},
   "outputs": [
    {
     "data": {
      "text/plain": [
       "3.87"
      ]
     },
     "execution_count": 26,
     "metadata": {},
     "output_type": "execute_result"
    }
   ],
   "source": [
    "b"
   ]
  },
  {
   "cell_type": "code",
   "execution_count": null,
   "id": "c2245571-c56c-4ed0-8789-685cea7f0211",
   "metadata": {},
   "outputs": [],
   "source": []
  },
  {
   "cell_type": "markdown",
   "id": "91f9c2f4-5e65-42eb-9ad6-56df8b6ad4ac",
   "metadata": {},
   "source": [
    "3. Write a Python program that converts temperatures from Celsius to    \n",
    "   Fahrenheit. Take the temperature in Celsius as input, store it in a variable,    \n",
    "   convert it to Fahrenheit, and display the result."
   ]
  },
  {
   "cell_type": "markdown",
   "id": "2849726b-42b0-49d7-b3eb-ff184c258de5",
   "metadata": {},
   "source": [
    "* To convert degree Celsius to degree Fahrenheit we use the following formula\n",
    "\n",
    "$°F = \\left(°C \\times \\frac{9}{5}\\right) + 32$"
   ]
  },
  {
   "cell_type": "code",
   "execution_count": 29,
   "id": "8702b91b-3886-49c7-a979-23f5c512f255",
   "metadata": {},
   "outputs": [],
   "source": [
    "# Let us first define the function\n",
    "\n",
    "def convert_deg_to_fahr(c):\n",
    "   \n",
    "    f = c * (9/5) + 32\n",
    "    \n",
    "    return f"
   ]
  },
  {
   "cell_type": "code",
   "execution_count": 32,
   "id": "edbeb584-33f5-431d-8745-10a8e93d8845",
   "metadata": {},
   "outputs": [
    {
     "name": "stdin",
     "output_type": "stream",
     "text": [
      "Enter temperature in degree celsius  37\n"
     ]
    },
    {
     "name": "stdout",
     "output_type": "stream",
     "text": [
      "Temperature 37.0 degree Celsius is  98.6 degree Fahrenheit\n"
     ]
    }
   ],
   "source": [
    "# Let's convert body temp in degree Celsius to degree Fahrenheit \n",
    "\n",
    "c = float(input(\"Enter temperature in degree celsius \"))\n",
    "f = convert_deg_to_fahr(c)\n",
    "print(f'Temperature {c} degree Celsius is ', str(np.round(f,2)) + ' degree Fahrenheit')"
   ]
  },
  {
   "cell_type": "code",
   "execution_count": null,
   "id": "89c13f42-4287-4841-a256-651424b9b8da",
   "metadata": {},
   "outputs": [],
   "source": []
  },
  {
   "cell_type": "markdown",
   "id": "48daafac-523d-417b-a93f-55aa190679fa",
   "metadata": {},
   "source": [
    "* Similarly, we can convert temperatue from Fahrenheit to Celsius"
   ]
  },
  {
   "cell_type": "markdown",
   "id": "d188ce8c-3bfe-4b25-b886-46ffb157b240",
   "metadata": {},
   "source": [
    "* To convert degree Fahrenheit to degree Celsius we use the following formula\n",
    "\n",
    "$°C = \\frac{5}{9} \\times (°F - 32)$"
   ]
  },
  {
   "cell_type": "code",
   "execution_count": 35,
   "id": "f30ea201-7e2f-42a1-ae5d-2d5bc6d85e44",
   "metadata": {},
   "outputs": [],
   "source": [
    "# Define the function\n",
    "\n",
    "def convert_fahr_to_deg(f):\n",
    "   \n",
    "    c = (5/9)*(f - 32)\n",
    "    \n",
    "    return c"
   ]
  },
  {
   "cell_type": "code",
   "execution_count": 36,
   "id": "8dd6b3cf-f597-4197-9869-53545861ea6b",
   "metadata": {},
   "outputs": [
    {
     "name": "stdin",
     "output_type": "stream",
     "text": [
      "Enter temperature in degree Fahrenheit 98.6\n"
     ]
    },
    {
     "name": "stdout",
     "output_type": "stream",
     "text": [
      "Temperature 98.6 degree Fahrenheit is  37.0 degree celsius\n"
     ]
    }
   ],
   "source": [
    "f = float(input(\"Enter temperature in degree Fahrenheit\"))\n",
    "c = convert_fahr_to_deg(f)\n",
    "print(f'Temperature {f} degree Fahrenheit is ', str(np.round(c,2)) + ' degree celsius')"
   ]
  },
  {
   "cell_type": "code",
   "execution_count": null,
   "id": "6b262919-1446-43fe-a529-56458afccf1b",
   "metadata": {},
   "outputs": [],
   "source": []
  },
  {
   "cell_type": "markdown",
   "id": "736929f5-df1f-48f7-8a0c-c105ec30e8ad",
   "metadata": {},
   "source": [
    "# <span style=\"color:red\"> TOPIC: String Based Questions </span> "
   ]
  },
  {
   "cell_type": "markdown",
   "id": "5f818361-c924-4a64-bd9f-0cc400effaca",
   "metadata": {},
   "source": [
    "1. Write a Python program that takes a string as input and prints the length of the string."
   ]
  },
  {
   "cell_type": "code",
   "execution_count": 38,
   "id": "f338da35-19e2-40dd-82a9-ffb3d13d74c3",
   "metadata": {},
   "outputs": [
    {
     "name": "stdin",
     "output_type": "stream",
     "text": [
      "Enter the text  Chandrashekhar Bagul\n"
     ]
    },
    {
     "name": "stdout",
     "output_type": "stream",
     "text": [
      "Length of the text entered is  20\n"
     ]
    }
   ],
   "source": [
    "# We can obtain the length of any string using len function. It count spaces too. \n",
    "\n",
    "text = str(input('Enter the text '))\n",
    "\n",
    "len_text = len(text)\n",
    "\n",
    "print('Length of the text entered is ', len_text)"
   ]
  },
  {
   "cell_type": "code",
   "execution_count": null,
   "id": "b72a59e6-82d5-4b18-a3e8-ae03c6e9a81e",
   "metadata": {},
   "outputs": [],
   "source": []
  },
  {
   "cell_type": "markdown",
   "id": "67ca147d-8b6c-4ec2-bedd-d7a8820c485e",
   "metadata": {},
   "source": [
    "2. Create a program that takes a sentence from the user and counts the number of vowels (a, e, i, o, u) in the string."
   ]
  },
  {
   "cell_type": "code",
   "execution_count": 43,
   "id": "01755fc9-ab82-4e7a-8790-ab89d7c3f2dc",
   "metadata": {},
   "outputs": [],
   "source": [
    "# Let us define a function that takes sentance as input and no. of vowels as output.\n",
    "# This can be achieved using for loop.\n",
    "\n",
    "def count_vowels(text):\n",
    "\n",
    "    text = text.lower()\n",
    "\n",
    "    vowel_count = 0\n",
    "    vowels = []\n",
    "\n",
    "    for alph in text:\n",
    "        if alph in ['a','e','i','o','u']:\n",
    "            vowels.append(alph)\n",
    "            vowel_count += 1\n",
    "\n",
    "    return vowels, vowel_count"
   ]
  },
  {
   "cell_type": "code",
   "execution_count": 45,
   "id": "35e94e50-0ff5-4ccd-9f22-80a174ca83bd",
   "metadata": {},
   "outputs": [
    {
     "name": "stdin",
     "output_type": "stream",
     "text": [
      "Enter the text  Chandrashekhar Bagul\n"
     ]
    },
    {
     "name": "stdout",
     "output_type": "stream",
     "text": [
      "Number of times the vowel encountered in the text is  6\n",
      "The vowels in the text are  {'e', 'u', 'a'}\n"
     ]
    }
   ],
   "source": [
    "text = str(input('Enter the text '))\n",
    "\n",
    "vowels, vowel_count = count_vowels(text)\n",
    "\n",
    "print('Number of times the vowel encountered in the text is ', vow_text)\n",
    "print('The vowels in the text are ', set(vowels))"
   ]
  },
  {
   "cell_type": "code",
   "execution_count": null,
   "id": "384b97ce-619f-4dbd-9428-d4743f5f7833",
   "metadata": {},
   "outputs": [],
   "source": []
  },
  {
   "cell_type": "markdown",
   "id": "bdc1f295-c914-44b4-b3e0-ab261c96ee86",
   "metadata": {},
   "source": [
    "3. Given a string, reverse the order of characters using string slicing and print the reversed string."
   ]
  },
  {
   "cell_type": "code",
   "execution_count": 49,
   "id": "33faf146-ba4f-4120-9a03-2f2e8db8fa32",
   "metadata": {},
   "outputs": [
    {
     "name": "stdin",
     "output_type": "stream",
     "text": [
      "Enter the text  pwskills\n"
     ]
    },
    {
     "name": "stdout",
     "output_type": "stream",
     "text": [
      "The reversed string of the string pwskills is  sllikswp\n"
     ]
    }
   ],
   "source": [
    "# We can rev\n",
    "\n",
    "string = str(input('Enter the text '))\n",
    "\n",
    "rev_string = string[::-1]\n",
    "\n",
    "print(f'The reversed string of the string {string} is ', rev_string)"
   ]
  },
  {
   "cell_type": "code",
   "execution_count": null,
   "id": "2e0a1295-6cd9-4920-95e8-4882e5e03d79",
   "metadata": {},
   "outputs": [],
   "source": []
  },
  {
   "cell_type": "markdown",
   "id": "0a08f813-cd30-4cea-b3eb-8935b639dbc7",
   "metadata": {},
   "source": [
    "4. Write a program that takes a string as input and checks if it is a palindrome (It is a word that reads the same forwards and backwards)."
   ]
  },
  {
   "cell_type": "code",
   "execution_count": 50,
   "id": "fd67e790-68ef-4767-9ea0-f3656be5f046",
   "metadata": {},
   "outputs": [],
   "source": [
    "# Create a function that checks whether the given  string reads same forward and backward\n",
    "\n",
    "def is_palindrome(string):\n",
    "    if string == string[::-1]:\n",
    "        print('The string entered is a palindrome')\n",
    "    else:\n",
    "        print('The string entered is not a palindrome')"
   ]
  },
  {
   "cell_type": "code",
   "execution_count": 51,
   "id": "4c4f43d3-247c-4f0c-826a-085250250366",
   "metadata": {},
   "outputs": [
    {
     "name": "stdin",
     "output_type": "stream",
     "text": [
      "The entered string is  SAS\n"
     ]
    },
    {
     "name": "stdout",
     "output_type": "stream",
     "text": [
      "The string entered is a palindrome\n"
     ]
    }
   ],
   "source": [
    "# Input any string in the function defined above\n",
    "\n",
    "string = str(input('The entered string is '))\n",
    "\n",
    "is_palindrome(string)"
   ]
  },
  {
   "cell_type": "code",
   "execution_count": 52,
   "id": "a1d575c9-23c3-464c-a6b2-2e5c85a292ae",
   "metadata": {},
   "outputs": [
    {
     "name": "stdin",
     "output_type": "stream",
     "text": [
      "The entered string is  SAP\n"
     ]
    },
    {
     "name": "stdout",
     "output_type": "stream",
     "text": [
      "The string entered is not a palindrome\n"
     ]
    }
   ],
   "source": [
    "string = str(input('The entered string is '))\n",
    "\n",
    "is_palindrome(string)"
   ]
  },
  {
   "cell_type": "code",
   "execution_count": 53,
   "id": "c9962ba7-6b1d-425b-9582-f7d2e8b2afc8",
   "metadata": {},
   "outputs": [
    {
     "name": "stdin",
     "output_type": "stream",
     "text": [
      "The entered string is  civic\n"
     ]
    },
    {
     "name": "stdout",
     "output_type": "stream",
     "text": [
      "The string entered is a palindrome\n"
     ]
    }
   ],
   "source": [
    "string = str(input('The entered string is '))\n",
    "\n",
    "is_palindrome(string)"
   ]
  },
  {
   "cell_type": "code",
   "execution_count": null,
   "id": "50028d0e-9470-4174-be5a-7e068d5094af",
   "metadata": {},
   "outputs": [],
   "source": []
  },
  {
   "cell_type": "markdown",
   "id": "bcd32332-6bc6-45eb-8c05-15aac6071b16",
   "metadata": {},
   "source": [
    "5. Create a program that takes a string as input and removes all the spaces from it. Print the modified string without spaces."
   ]
  },
  {
   "cell_type": "markdown",
   "id": "df4b4d79-d78b-4e4d-b0ff-be5e4e0c6b54",
   "metadata": {},
   "source": [
    "* Python do not have built-in function to remove spaces (unlike excel)"
   ]
  },
  {
   "cell_type": "code",
   "execution_count": 60,
   "id": "0c1f652b-1f17-4f9d-a0a9-83ceccb6619f",
   "metadata": {
    "tags": []
   },
   "outputs": [
    {
     "name": "stdin",
     "output_type": "stream",
     "text": [
      "The text entered is  I like pwskills\n"
     ]
    },
    {
     "name": "stdout",
     "output_type": "stream",
     "text": [
      "Text without spaces: Ilikepwskills\n"
     ]
    }
   ],
   "source": [
    "# Input any text and trim it using replace or join\n",
    "\n",
    "# Using replace\n",
    "\n",
    "text = str(input('The text entered is '))\n",
    "\n",
    "trim_text = text.replace(\" \", \"\")\n",
    "\n",
    "print('Text without spaces:', trim_text)"
   ]
  },
  {
   "cell_type": "code",
   "execution_count": 61,
   "id": "ce9116b0-1620-4a50-ba2d-c6079ae682af",
   "metadata": {},
   "outputs": [
    {
     "name": "stdin",
     "output_type": "stream",
     "text": [
      "The text entered is   I am learning python\n"
     ]
    },
    {
     "name": "stdout",
     "output_type": "stream",
     "text": [
      "Text without spaces: Iamlearningpython\n"
     ]
    }
   ],
   "source": [
    "# Using join\n",
    "\n",
    "text = str(input('The text entered is '))\n",
    "\n",
    "words = text.split()\n",
    "trim_text = \"\".join(words)\n",
    "\n",
    "print('Text without spaces:', trim_text)"
   ]
  },
  {
   "cell_type": "code",
   "execution_count": null,
   "id": "7d9d72cb-5eb1-4e58-8f92-337a6831d587",
   "metadata": {},
   "outputs": [],
   "source": []
  },
  {
   "cell_type": "code",
   "execution_count": null,
   "id": "90615e34-e799-4b4d-be6d-e7d69cd7e6b0",
   "metadata": {},
   "outputs": [],
   "source": []
  },
  {
   "cell_type": "code",
   "execution_count": null,
   "id": "e8e29ff1-370d-4e14-8d33-d498b9764cf8",
   "metadata": {},
   "outputs": [],
   "source": []
  },
  {
   "cell_type": "code",
   "execution_count": null,
   "id": "cd901c2f-7d25-4156-97f5-2839ff3597c8",
   "metadata": {},
   "outputs": [],
   "source": []
  },
  {
   "cell_type": "code",
   "execution_count": null,
   "id": "71eb2e3d-3c94-4b7e-8e0b-26eefe893f36",
   "metadata": {},
   "outputs": [],
   "source": []
  },
  {
   "cell_type": "code",
   "execution_count": null,
   "id": "71bc2e7a-ecef-4bf8-8091-e26931044faf",
   "metadata": {},
   "outputs": [],
   "source": []
  },
  {
   "cell_type": "code",
   "execution_count": null,
   "id": "94740724-a5f8-4813-b2a5-f6da4fc06c32",
   "metadata": {},
   "outputs": [],
   "source": []
  },
  {
   "cell_type": "code",
   "execution_count": null,
   "id": "cd815a5e-5d7e-4b53-9d53-f5376236425d",
   "metadata": {},
   "outputs": [],
   "source": []
  },
  {
   "cell_type": "code",
   "execution_count": null,
   "id": "d81aaf66-fa64-486f-a0f6-4eac26d9e130",
   "metadata": {},
   "outputs": [],
   "source": []
  }
 ],
 "metadata": {
  "kernelspec": {
   "display_name": "Python 3 (ipykernel)",
   "language": "python",
   "name": "python3"
  },
  "language_info": {
   "codemirror_mode": {
    "name": "ipython",
    "version": 3
   },
   "file_extension": ".py",
   "mimetype": "text/x-python",
   "name": "python",
   "nbconvert_exporter": "python",
   "pygments_lexer": "ipython3",
   "version": "3.9.12"
  }
 },
 "nbformat": 4,
 "nbformat_minor": 5
}
